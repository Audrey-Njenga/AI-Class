{
 "cells": [
  {
   "cell_type": "markdown",
   "metadata": {
    "id": "qXSUj_p-F3lD"
   },
   "source": [
    "# **Artificial Intelligence Class**\n",
    "### Group Assignment \n",
    "#### Environment Set Up\n",
    "###### Audrey Njenga, Kelvin Wachira, Edward Okeyo, Ziithe Ewen Hiwa\n"
   ]
  },
  {
   "cell_type": "markdown",
   "metadata": {
    "id": "0iLH8pEnmQ-h"
   },
   "source": [
    "\n",
    "# Reading and filtering the file using pandas"
   ]
  },
  {
   "cell_type": "code",
   "execution_count": null,
   "metadata": {
    "colab": {
     "base_uri": "https://localhost:8080/",
     "height": 419
    },
    "id": "l3tRx8S_mcWG",
    "outputId": "d7e13a75-8f56-4abb-b3dc-c332a12245f5",
    "scrolled": true
   },
   "outputs": [
    {
     "data": {
      "text/html": [
       "<div>\n",
       "<style scoped>\n",
       "    .dataframe tbody tr th:only-of-type {\n",
       "        vertical-align: middle;\n",
       "    }\n",
       "\n",
       "    .dataframe tbody tr th {\n",
       "        vertical-align: top;\n",
       "    }\n",
       "\n",
       "    .dataframe thead th {\n",
       "        text-align: right;\n",
       "    }\n",
       "</style>\n",
       "<table border=\"1\" class=\"dataframe\">\n",
       "  <thead>\n",
       "    <tr style=\"text-align: right;\">\n",
       "      <th></th>\n",
       "      <th>Province/State</th>\n",
       "      <th>Country/Region</th>\n",
       "      <th>Lat</th>\n",
       "      <th>Long</th>\n",
       "      <th>Date</th>\n",
       "      <th>Confirmed</th>\n",
       "      <th>Deaths</th>\n",
       "      <th>Recovered</th>\n",
       "      <th>Active</th>\n",
       "      <th>WHO Region</th>\n",
       "    </tr>\n",
       "  </thead>\n",
       "  <tbody>\n",
       "    <tr>\n",
       "      <th>2</th>\n",
       "      <td>NaN</td>\n",
       "      <td>Algeria</td>\n",
       "      <td>28.0339</td>\n",
       "      <td>1.6596</td>\n",
       "      <td>2020-01-22</td>\n",
       "      <td>0</td>\n",
       "      <td>0</td>\n",
       "      <td>0</td>\n",
       "      <td>0</td>\n",
       "      <td>Africa</td>\n",
       "    </tr>\n",
       "    <tr>\n",
       "      <th>4</th>\n",
       "      <td>NaN</td>\n",
       "      <td>Angola</td>\n",
       "      <td>-11.2027</td>\n",
       "      <td>17.8739</td>\n",
       "      <td>2020-01-22</td>\n",
       "      <td>0</td>\n",
       "      <td>0</td>\n",
       "      <td>0</td>\n",
       "      <td>0</td>\n",
       "      <td>Africa</td>\n",
       "    </tr>\n",
       "    <tr>\n",
       "      <th>24</th>\n",
       "      <td>NaN</td>\n",
       "      <td>Benin</td>\n",
       "      <td>9.3077</td>\n",
       "      <td>2.3158</td>\n",
       "      <td>2020-01-22</td>\n",
       "      <td>0</td>\n",
       "      <td>0</td>\n",
       "      <td>0</td>\n",
       "      <td>0</td>\n",
       "      <td>Africa</td>\n",
       "    </tr>\n",
       "    <tr>\n",
       "      <th>31</th>\n",
       "      <td>NaN</td>\n",
       "      <td>Burkina Faso</td>\n",
       "      <td>12.2383</td>\n",
       "      <td>-1.5616</td>\n",
       "      <td>2020-01-22</td>\n",
       "      <td>0</td>\n",
       "      <td>0</td>\n",
       "      <td>0</td>\n",
       "      <td>0</td>\n",
       "      <td>Africa</td>\n",
       "    </tr>\n",
       "    <tr>\n",
       "      <th>32</th>\n",
       "      <td>NaN</td>\n",
       "      <td>Cabo Verde</td>\n",
       "      <td>16.5388</td>\n",
       "      <td>-23.0418</td>\n",
       "      <td>2020-01-22</td>\n",
       "      <td>0</td>\n",
       "      <td>0</td>\n",
       "      <td>0</td>\n",
       "      <td>0</td>\n",
       "      <td>Africa</td>\n",
       "    </tr>\n",
       "    <tr>\n",
       "      <th>...</th>\n",
       "      <td>...</td>\n",
       "      <td>...</td>\n",
       "      <td>...</td>\n",
       "      <td>...</td>\n",
       "      <td>...</td>\n",
       "      <td>...</td>\n",
       "      <td>...</td>\n",
       "      <td>...</td>\n",
       "      <td>...</td>\n",
       "      <td>...</td>\n",
       "    </tr>\n",
       "    <tr>\n",
       "      <th>49061</th>\n",
       "      <td>NaN</td>\n",
       "      <td>South Sudan</td>\n",
       "      <td>6.8770</td>\n",
       "      <td>31.3070</td>\n",
       "      <td>2020-07-27</td>\n",
       "      <td>2305</td>\n",
       "      <td>46</td>\n",
       "      <td>1175</td>\n",
       "      <td>1084</td>\n",
       "      <td>Africa</td>\n",
       "    </tr>\n",
       "    <tr>\n",
       "      <th>49062</th>\n",
       "      <td>NaN</td>\n",
       "      <td>Western Sahara</td>\n",
       "      <td>24.2155</td>\n",
       "      <td>-12.8858</td>\n",
       "      <td>2020-07-27</td>\n",
       "      <td>10</td>\n",
       "      <td>1</td>\n",
       "      <td>8</td>\n",
       "      <td>1</td>\n",
       "      <td>Africa</td>\n",
       "    </tr>\n",
       "    <tr>\n",
       "      <th>49063</th>\n",
       "      <td>NaN</td>\n",
       "      <td>Sao Tome and Principe</td>\n",
       "      <td>0.1864</td>\n",
       "      <td>6.6131</td>\n",
       "      <td>2020-07-27</td>\n",
       "      <td>865</td>\n",
       "      <td>14</td>\n",
       "      <td>734</td>\n",
       "      <td>117</td>\n",
       "      <td>Africa</td>\n",
       "    </tr>\n",
       "    <tr>\n",
       "      <th>49065</th>\n",
       "      <td>NaN</td>\n",
       "      <td>Comoros</td>\n",
       "      <td>-11.6455</td>\n",
       "      <td>43.3333</td>\n",
       "      <td>2020-07-27</td>\n",
       "      <td>354</td>\n",
       "      <td>7</td>\n",
       "      <td>328</td>\n",
       "      <td>19</td>\n",
       "      <td>Africa</td>\n",
       "    </tr>\n",
       "    <tr>\n",
       "      <th>49067</th>\n",
       "      <td>NaN</td>\n",
       "      <td>Lesotho</td>\n",
       "      <td>-29.6100</td>\n",
       "      <td>28.2336</td>\n",
       "      <td>2020-07-27</td>\n",
       "      <td>505</td>\n",
       "      <td>12</td>\n",
       "      <td>128</td>\n",
       "      <td>365</td>\n",
       "      <td>Africa</td>\n",
       "    </tr>\n",
       "  </tbody>\n",
       "</table>\n",
       "<p>9024 rows × 10 columns</p>\n",
       "</div>"
      ],
      "text/plain": [
       "      Province/State         Country/Region  ...  Active  WHO Region\n",
       "2                NaN                Algeria  ...       0      Africa\n",
       "4                NaN                 Angola  ...       0      Africa\n",
       "24               NaN                  Benin  ...       0      Africa\n",
       "31               NaN           Burkina Faso  ...       0      Africa\n",
       "32               NaN             Cabo Verde  ...       0      Africa\n",
       "...              ...                    ...  ...     ...         ...\n",
       "49061            NaN            South Sudan  ...    1084      Africa\n",
       "49062            NaN         Western Sahara  ...       1      Africa\n",
       "49063            NaN  Sao Tome and Principe  ...     117      Africa\n",
       "49065            NaN                Comoros  ...      19      Africa\n",
       "49067            NaN                Lesotho  ...     365      Africa\n",
       "\n",
       "[9024 rows x 10 columns]"
      ]
     },
     "execution_count": 11,
     "metadata": {
      "tags": []
     },
     "output_type": "execute_result"
    }
   ],
   "source": [
    "import csv\n",
    "#to read the data file on covid\n",
    "import pandas as pd\n",
    "\n",
    "\n",
    "#read file\n",
    "covidAfrica = pd.read_csv(\"covid_19_clean_complete.csv\")\n",
    "\n",
    "#To use only African countries we create a filter\n",
    "covidAfrica.loc[covidAfrica[\"WHO Region\"]==\"Africa\"]\n",
    "\n"
   ]
  },
  {
   "cell_type": "markdown",
   "metadata": {
    "id": "ikGk25ZF7tkd"
   },
   "source": [
    "# Plotting data using matplotlib\n",
    "## Show the growth rate of confirmed cases in South Africa between June and July 2020\n",
    "\n",
    "\n",
    "\n"
   ]
  },
  {
   "cell_type": "code",
   "execution_count": null,
   "metadata": {
    "colab": {
     "base_uri": "https://localhost:8080/"
    },
    "id": "n4unVk4j7yh7",
    "outputId": "2292a352-99f5-4753-b7c0-3738c79fa1cd"
   },
   "outputs": [
    {
     "name": "stdout",
     "output_type": "stream",
     "text": [
      "      Country/Region  Confirmed       Date\n",
      "34650   South Africa      35812 2020-06-02\n",
      "34911   South Africa      37525 2020-06-03\n",
      "35172   South Africa      40792 2020-06-04\n",
      "35433   South Africa      43434 2020-06-05\n",
      "35694   South Africa      45973 2020-06-06\n"
     ]
    }
   ],
   "source": [
    "import matplotlib.pyplot as plt\n",
    "df = covidAfrica[['Country/Region', 'Confirmed', 'Date']]\n",
    "#filter data to South Africa\n",
    "df = df[df['Country/Region'] == 'South Africa']\n",
    "#filter data to June and July 2020\n",
    "df['Date'] = pd.to_datetime(df['Date'])\n",
    "start_date = '2020-06-01'\n",
    "end_date = '2020-07-31'\n",
    "mask = (df['Date'] > start_date) & (df['Date'] <= end_date)\n",
    "df = df.loc[mask]\n",
    "print(df.head())\n"
   ]
  },
  {
   "cell_type": "code",
   "execution_count": null,
   "metadata": {
    "colab": {
     "base_uri": "https://localhost:8080/",
     "height": 265
    },
    "id": "NrsYqC7SGgX-",
    "outputId": "5eec90d1-6fe8-46cb-bdfb-710b03ccaf03"
   },
   "outputs": [
    {
     "data": {
      "image/png": "[encoded data removed]",
      "text/plain": [
       "<Figure size 432x288 with 1 Axes>"
      ]
     },
     "metadata": {
      "needs_background": "light",
      "tags": []
     },
     "output_type": "display_data"
    }
   ],
   "source": [
    "#set x column as Date and y as confirmed\n",
    "x =  df['Date']\n",
    "y = df['Confirmed']\n",
    "#plot exponential graph\n",
    "plt.plot(x,y)\n",
    "plt.show()\n"
   ]
  },
  {
   "cell_type": "markdown",
   "metadata": {
    "id": "DuEcfEWHqAbA"
   },
   "source": [
    "# SciPy (pronounced “Sigh Pie”) is a Python-based ecosystem of open-source software for mathematics, science, and engineering."
   ]
  },
  {
   "cell_type": "code",
   "execution_count": null,
   "metadata": {
    "id": "_MS2Rh9mncJ_"
   },
   "outputs": [],
   "source": [
    "Getting Scipy to form a growth rate formula"
   ]
  },
  {
   "cell_type": "code",
   "execution_count": null,
   "metadata": {
    "id": "sAcOaeqCo5k2"
   },
   "outputs": [],
   "source": [
    "import scipy as sp \n",
    "import numpy as np\n",
    "from scipy import cluster"
   ]
  },
  {
   "cell_type": "code",
   "execution_count": null,
   "metadata": {
    "colab": {
     "base_uri": "https://localhost:8080/"
    },
    "id": "EDMG6VbDpMhR",
    "outputId": "0fc00051-443a-40b4-afcb-f93d18b49edf"
   },
   "outputs": [
    {
     "name": "stdout",
     "output_type": "stream",
     "text": [
      "Confirmed    49068\n",
      "dtype: int64\n",
      "The number of days from first case to last day: 187.0\n",
      "Optimization terminated successfully.\n",
      "         Current function value: -0.000007\n",
      "         Iterations: 4\n",
      "         Function evaluations: 21\n",
      "         Gradient evaluations: 7\n"
     ]
    }
   ],
   "source": [
    "#Adding values from a single row\n",
    "df = pd.DataFrame(covidAfrica,columns=['Confirmed'])\n",
    "\n",
    "import datetime\n",
    "#count total confirmed cases\n",
    "count_column = df.count(axis=0)\n",
    "print (count_column)\n",
    "\n",
    "#Take the date time convert it into seconds since 1970 \n",
    "#perform the initial dat subtract it from the enddate\n",
    "initialDate =covidAfrica.iloc[0,4]\n",
    "endDate =covidAfrica.iloc[-1,4]\n",
    "\n",
    "intdate=str(initialDate)\n",
    "enddate=str(endDate)\n",
    "\n",
    "initialarray=intdate.split(\"-\")\n",
    "endarray=enddate.split(\"-\")\n",
    "\n",
    "dayone = datetime.datetime(int(initialarray[0]),int(initialarray[1]),int(initialarray[2])).strftime('%s')\n",
    "lastday = datetime.datetime(int(endarray[0]),int(endarray[1]),int(endarray[2])).strftime('%s')\n",
    "\n",
    "\n",
    "Periodlength = (int(lastday)-int(dayone))/(60*60*24)\n",
    "print (\"The number of days from first case to last day: \"+str(Periodlength))\n",
    "\n",
    "\n",
    "#Using Scipy to find the lowest possible rate of the spread of covid\n",
    "\n",
    "# ways to find the rate if you consider \n",
    "# newcases/days - variable cases (doubles at the rate of the current cases if it is an exponential growth) = rate per day\n",
    "# f(x)=x/y-10\n",
    "\n",
    "def f(x):\n",
    "    return x/y+x**2\n",
    "\n",
    "x= np.linspace(0,50000,50)\n",
    "y = 187\n",
    "\n",
    "import scipy.optimize as opt\n",
    "[xopt,fopt,gopt,Bopt, func_calls,grad_calls,warnflg] = \\\n",
    "    opt.fmin_bfgs(f,x0=100,maxiter=50000,full_output=True)\n",
    "\n",
    "\n"
   ]
  },
  {
   "cell_type": "markdown",
   "metadata": {
    "id": "MrLYs9py_97G"
   },
   "source": [
    "**The current function value above represents the function value of the lowest likely rate of spread of the virus**"
   ]
  },
  {
   "cell_type": "markdown",
   "metadata": {
    "id": "qdisBJFDJvRt"
   },
   "source": [
    "## Using numpy and SciKit Learn to transfornm data"
   ]
  },
  {
   "cell_type": "code",
   "execution_count": null,
   "metadata": {
    "colab": {
     "base_uri": "https://localhost:8080/"
    },
    "id": "rCidUDfHJ6hH",
    "outputId": "bad55e00-12a1-458e-faf2-e3df978c29ad"
   },
   "outputs": [
    {
     "name": "stdout",
     "output_type": "stream",
     "text": [
      "[[15 44]\n",
      " [37 17]\n",
      " [10 56]\n",
      " [98 20]\n",
      " [89 50]\n",
      " [65 14]\n",
      " [58 11]\n",
      " [63 54]\n",
      " [10 58]\n",
      " [76 83]]\n",
      "[[0.05681818 0.45833333]\n",
      " [0.30681818 0.08333333]\n",
      " [0.         0.625     ]\n",
      " [1.         0.125     ]\n",
      " [0.89772727 0.54166667]\n",
      " [0.625      0.04166667]\n",
      " [0.54545455 0.        ]\n",
      " [0.60227273 0.59722222]\n",
      " [0.         0.65277778]\n",
      " [0.75       1.        ]]\n"
     ]
    }
   ],
   "source": [
    "import numpy as np\n",
    "from sklearn.preprocessing import MinMaxScaler\n",
    "# create a radom 10 by 2 array\n",
    "data = np.random.randint(10, 100, (10 ,2))\n",
    "# transform features by scaling \n",
    "print(data)\n",
    "scalar = MinMaxScaler()\n",
    "new = scalar.fit_transform(data)\n",
    "print(new)"
   ]
  },
  {
   "cell_type": "markdown",
   "metadata": {
    "id": "o1Sw016KYjeJ"
   },
   "source": [
    "# Using Numpy to find the total of Recovered Cases and converting \n",
    "\n",
    "---\n",
    "\n",
    "numpy array to tensor"
   ]
  },
  {
   "cell_type": "code",
   "execution_count": 17,
   "metadata": {
    "colab": {
     "base_uri": "https://localhost:8080/"
    },
    "id": "T_fh6fulXt-n",
    "outputId": "e483fed2-8113-4c96-e465-1cb723e6ad8b"
   },
   "outputs": [
    {
     "name": "stdout",
     "output_type": "stream",
     "text": [
      "11193730\n",
      "tf.Tensor([  0.   0.   0. ... 734. 328. 128.], shape=(9023,), dtype=float32)\n"
     ]
    }
   ],
   "source": [
    "import pandas as pd\n",
    "import numpy as np\n",
    "import tensorflow as tf\n",
    "\n",
    "##Monitoring Recovered Cases Using Numpy\n",
    "\n",
    "#load the dataset\n",
    "covid_data = pd.read_csv(\"covid_19_clean_complete.csv\")\n",
    "\n",
    "#filter for Africa\n",
    "covidAfrica = covid_data.loc[covid_data[\"WHO Region\"]==\"Africa\"]\n",
    "\n",
    "covidAfrica\n",
    "\n",
    "#change the filtered data to a numpy array\n",
    "covid_array = np.array(covidAfrica[1:])\n",
    "\n",
    "covid_array\n",
    "\n",
    "# #slice the array to extract specific row\n",
    "# covid_array[1,:]\n",
    "\n",
    "#slice the array to extract recovered cases column\n",
    "cases = covid_array[:,7]\n",
    "cases\n",
    "\n",
    "cases.astype(int)\n",
    "\n",
    "#Calculate total recovered cases in Africa -sum up column\n",
    "total = np.sum(cases)\n",
    "\n",
    "print(total)\n",
    "\n",
    "# changes recovered cases array into a tensor with tensorflow\n",
    "tensor = tf.convert_to_tensor(cases, dtype=tf.float32)\n",
    "\n",
    "print(tensor)"
   ]
  },
  {
   "cell_type": "code",
   "execution_count": null,
   "metadata": {
    "id": "unK7wHRDXuo5"
   },
   "outputs": [],
   "source": []
  }
 ],
 "metadata": {
  "colab": {
   "collapsed_sections": [],
   "name": "AI Group Work.ipynb",
   "provenance": []
  },
  "kernelspec": {
   "display_name": "Python 3",
   "language": "python",
   "name": "python3"
  },
  "language_info": {
   "codemirror_mode": {
    "name": "ipython",
    "version": 3
   },
   "file_extension": ".py",
   "mimetype": "text/x-python",
   "name": "python",
   "nbconvert_exporter": "python",
   "pygments_lexer": "ipython3",
   "version": "3.7.4"
  }
 },
 "nbformat": 4,
 "nbformat_minor": 1
}
